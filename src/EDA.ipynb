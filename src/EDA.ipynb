{
 "cells": [
  {
   "cell_type": "markdown",
   "metadata": {},
   "source": [
    "The main idea for the project is to think of how can I help the player to increase his chances to win a game. \n",
    "1- EDA \n",
    "    -- For the EDA it will help the player to understand his opponent in a tournament. Know their weakness, the attributes for the top ranked players and what is special about them. \n",
    " - Plot the average score for each set\n",
    "2- clustering \n",
    "-- Does the top ranked players are cluster in one group and mid rank in one group..\n",
    "-- Grouping the players can help to form a strategy for the game, understand the playing style for the opponent if the player \n",
    "plays against him before\n",
    "-- use it to improve the result of the prediction so I will use the regular prediction methods and a simi\n",
    "3- Prediction\n",
    "-- Now the player knows his opponent and have a plan for the game. The next step will be trying to predict the result of the game\n",
    "For the classification : Logistic Reg., SVM classification, Random forest, Neural Network (it depend) \n",
    "For regression (can we predict the other sets results based on the first set stats ?) : Linear, SVM, Random forest, Neural Network.\n",
    "4- Game simulation\n",
    "\n",
    "- Match strategy, tactics, and analysis \n",
    "- Training regimens and focus\n",
    "- Match outcome and tournament table prediction\n",
    ". A successful outcome for the\n",
    "project would be the creation of both a classification model capable of predicting a\n",
    "future game’s outcome, and a regression model capable of predicting a future game’s\n",
    "score, whose predictive performance compare favourably to different benchmark\n",
    "methods.\n"
   ]
  },
  {
   "cell_type": "code",
   "execution_count": 11,
   "metadata": {},
   "outputs": [
    {
     "name": "stdout",
     "output_type": "stream",
     "text": [
      "Collecting pandas-profiling\n",
      "  Downloading pandas_profiling-3.2.0-py2.py3-none-any.whl (262 kB)\n",
      "Collecting pydantic>=1.8.1\n",
      "  Downloading pydantic-1.9.2-cp38-cp38-win_amd64.whl (2.1 MB)\n",
      "Requirement already satisfied: requests>=2.24.0 in c:\\users\\hp\\anaconda3\\lib\\site-packages (from pandas-profiling) (2.24.0)\n",
      "Collecting joblib~=1.1.0\n",
      "  Downloading joblib-1.1.0-py2.py3-none-any.whl (306 kB)\n",
      "Requirement already satisfied: jinja2>=2.11.1 in c:\\users\\hp\\anaconda3\\lib\\site-packages (from pandas-profiling) (2.11.2)\n",
      "Collecting htmlmin>=0.1.12\n",
      "  Downloading htmlmin-0.1.12.tar.gz (19 kB)\n",
      "Collecting missingno>=0.4.2\n",
      "  Downloading missingno-0.5.1-py3-none-any.whl (8.7 kB)\n",
      "Collecting multimethod>=1.4\n",
      "  Downloading multimethod-1.8-py3-none-any.whl (9.8 kB)\n",
      "Requirement already satisfied: seaborn>=0.10.1 in c:\\users\\hp\\anaconda3\\lib\\site-packages (from pandas-profiling) (0.11.0)\n",
      "Collecting visions[type_image_path]==0.7.4\n",
      "  Downloading visions-0.7.4-py3-none-any.whl (102 kB)\n",
      "Requirement already satisfied: tqdm>=4.48.2 in c:\\users\\hp\\anaconda3\\lib\\site-packages (from pandas-profiling) (4.50.2)\n",
      "Requirement already satisfied: pandas!=1.0.0,!=1.0.1,!=1.0.2,!=1.1.0,>=0.25.3 in c:\\users\\hp\\anaconda3\\lib\\site-packages (from pandas-profiling) (1.1.3)\n",
      "Collecting phik>=0.11.1\n",
      "  Downloading phik-0.12.2-cp38-cp38-win_amd64.whl (677 kB)\n",
      "Requirement already satisfied: matplotlib>=3.2.0 in c:\\users\\hp\\anaconda3\\lib\\site-packages (from pandas-profiling) (3.3.2)\n",
      "Requirement already satisfied: numpy>=1.16.0 in c:\\users\\hp\\anaconda3\\lib\\site-packages (from pandas-profiling) (1.19.2)\n",
      "Collecting tangled-up-in-unicode==0.2.0\n",
      "  Downloading tangled_up_in_unicode-0.2.0-py3-none-any.whl (4.7 MB)\n",
      "Requirement already satisfied: PyYAML>=5.0.0 in c:\\users\\hp\\anaconda3\\lib\\site-packages (from pandas-profiling) (5.3.1)\n",
      "Requirement already satisfied: scipy>=1.4.1 in c:\\users\\hp\\anaconda3\\lib\\site-packages (from pandas-profiling) (1.5.2)\n",
      "Collecting markupsafe~=2.1.1\n",
      "  Downloading MarkupSafe-2.1.1-cp38-cp38-win_amd64.whl (17 kB)\n",
      "Requirement already satisfied: typing-extensions>=3.7.4.3 in c:\\users\\hp\\anaconda3\\lib\\site-packages (from pydantic>=1.8.1->pandas-profiling) (3.7.4.3)\n",
      "Requirement already satisfied: idna<3,>=2.5 in c:\\users\\hp\\anaconda3\\lib\\site-packages (from requests>=2.24.0->pandas-profiling) (2.10)\n",
      "Requirement already satisfied: chardet<4,>=3.0.2 in c:\\users\\hp\\anaconda3\\lib\\site-packages (from requests>=2.24.0->pandas-profiling) (3.0.4)\n",
      "Requirement already satisfied: urllib3!=1.25.0,!=1.25.1,<1.26,>=1.21.1 in c:\\users\\hp\\anaconda3\\lib\\site-packages (from requests>=2.24.0->pandas-profiling) (1.25.11)\n",
      "Requirement already satisfied: certifi>=2017.4.17 in c:\\users\\hp\\anaconda3\\lib\\site-packages (from requests>=2.24.0->pandas-profiling) (2020.6.20)\n",
      "Requirement already satisfied: networkx>=2.4 in c:\\users\\hp\\anaconda3\\lib\\site-packages (from visions[type_image_path]==0.7.4->pandas-profiling) (2.5)\n",
      "Requirement already satisfied: attrs>=19.3.0 in c:\\users\\hp\\anaconda3\\lib\\site-packages (from visions[type_image_path]==0.7.4->pandas-profiling) (20.3.0)\n",
      "Requirement already satisfied: Pillow; extra == \"type_image_path\" in c:\\users\\hp\\anaconda3\\lib\\site-packages (from visions[type_image_path]==0.7.4->pandas-profiling) (8.0.1)\n",
      "Collecting imagehash; extra == \"type_image_path\"\n",
      "  Downloading ImageHash-4.2.1.tar.gz (812 kB)\n",
      "Requirement already satisfied: python-dateutil>=2.7.3 in c:\\users\\hp\\anaconda3\\lib\\site-packages (from pandas!=1.0.0,!=1.0.1,!=1.0.2,!=1.1.0,>=0.25.3->pandas-profiling) (2.8.1)\n",
      "Requirement already satisfied: pytz>=2017.2 in c:\\users\\hp\\anaconda3\\lib\\site-packages (from pandas!=1.0.0,!=1.0.1,!=1.0.2,!=1.1.0,>=0.25.3->pandas-profiling) (2020.1)\n",
      "Requirement already satisfied: kiwisolver>=1.0.1 in c:\\users\\hp\\anaconda3\\lib\\site-packages (from matplotlib>=3.2.0->pandas-profiling) (1.3.0)\n",
      "Requirement already satisfied: cycler>=0.10 in c:\\users\\hp\\anaconda3\\lib\\site-packages (from matplotlib>=3.2.0->pandas-profiling) (0.10.0)\n",
      "Requirement already satisfied: pyparsing!=2.0.4,!=2.1.2,!=2.1.6,>=2.0.3 in c:\\users\\hp\\anaconda3\\lib\\site-packages (from matplotlib>=3.2.0->pandas-profiling) (2.4.7)\n",
      "Requirement already satisfied: decorator>=4.3.0 in c:\\users\\hp\\anaconda3\\lib\\site-packages (from networkx>=2.4->visions[type_image_path]==0.7.4->pandas-profiling) (4.4.2)\n",
      "Requirement already satisfied: six in c:\\users\\hp\\anaconda3\\lib\\site-packages (from imagehash; extra == \"type_image_path\"->visions[type_image_path]==0.7.4->pandas-profiling) (1.15.0)\n",
      "Requirement already satisfied: PyWavelets in c:\\users\\hp\\anaconda3\\lib\\site-packages (from imagehash; extra == \"type_image_path\"->visions[type_image_path]==0.7.4->pandas-profiling) (1.1.1)\n",
      "Building wheels for collected packages: htmlmin, imagehash\n",
      "  Building wheel for htmlmin (setup.py): started\n",
      "  Building wheel for htmlmin (setup.py): finished with status 'done'\n",
      "  Created wheel for htmlmin: filename=htmlmin-0.1.12-py3-none-any.whl size=27091 sha256=ad6cf71c4072a80d7baf7f30b3a512053b36140d089913a249c455cd0883c68d\n",
      "  Stored in directory: c:\\users\\hp\\appdata\\local\\pip\\cache\\wheels\\23\\14\\6e\\4be5bfeeb027f4939a01764b48edd5996acf574b0913fe5243\n",
      "  Building wheel for imagehash (setup.py): started\n",
      "  Building wheel for imagehash (setup.py): finished with status 'done'\n",
      "  Created wheel for imagehash: filename=ImageHash-4.2.1-py2.py3-none-any.whl size=295204 sha256=4a0d20e95e9b5b4e04508625a619af92846f8ebbf41750ffc3adb995d9751771\n",
      "  Stored in directory: c:\\users\\hp\\appdata\\local\\pip\\cache\\wheels\\48\\a1\\7f\\096c1269d6bf78d4768180602579b35a1e8cb1250bb4b40c74\n",
      "Successfully built htmlmin imagehash\n",
      "Installing collected packages: pydantic, joblib, htmlmin, missingno, multimethod, tangled-up-in-unicode, imagehash, visions, phik, markupsafe, pandas-profiling\n",
      "  Attempting uninstall: joblib\n",
      "    Found existing installation: joblib 0.17.0\n",
      "    Uninstalling joblib-0.17.0:\n",
      "      Successfully uninstalled joblib-0.17.0\n",
      "  Attempting uninstall: markupsafe\n",
      "    Found existing installation: MarkupSafe 1.1.1\n",
      "    Uninstalling MarkupSafe-1.1.1:\n",
      "      Successfully uninstalled MarkupSafe-1.1.1\n",
      "Successfully installed htmlmin-0.1.12 imagehash-4.2.1 joblib-1.1.0 markupsafe-2.1.1 missingno-0.5.1 multimethod-1.8 pandas-profiling-3.2.0 phik-0.12.2 pydantic-1.9.2 tangled-up-in-unicode-0.2.0 visions-0.7.4\n",
      "Requirement already satisfied: pandas-profiling in c:\\users\\hp\\anaconda3\\lib\\site-packages (3.2.0)\n",
      "Requirement already satisfied: missingno>=0.4.2 in c:\\users\\hp\\anaconda3\\lib\\site-packages (from pandas-profiling) (0.5.1)\n",
      "Requirement already satisfied: jinja2>=2.11.1 in c:\\users\\hp\\anaconda3\\lib\\site-packages (from pandas-profiling) (2.11.2)\n",
      "Requirement already satisfied: seaborn>=0.10.1 in c:\\users\\hp\\anaconda3\\lib\\site-packages (from pandas-profiling) (0.11.0)\n",
      "Requirement already satisfied: PyYAML>=5.0.0 in c:\\users\\hp\\anaconda3\\lib\\site-packages (from pandas-profiling) (5.3.1)\n",
      "Requirement already satisfied: visions[type_image_path]==0.7.4 in c:\\users\\hp\\anaconda3\\lib\\site-packages (from pandas-profiling) (0.7.4)\n",
      "Requirement already satisfied: pydantic>=1.8.1 in c:\\users\\hp\\anaconda3\\lib\\site-packages (from pandas-profiling) (1.9.2)\n",
      "Requirement already satisfied: numpy>=1.16.0 in c:\\users\\hp\\anaconda3\\lib\\site-packages (from pandas-profiling) (1.19.2)\n",
      "Requirement already satisfied: matplotlib>=3.2.0 in c:\\users\\hp\\anaconda3\\lib\\site-packages (from pandas-profiling) (3.3.2)\n",
      "Requirement already satisfied: joblib~=1.1.0 in c:\\users\\hp\\anaconda3\\lib\\site-packages (from pandas-profiling) (1.1.0)\n",
      "Requirement already satisfied: scipy>=1.4.1 in c:\\users\\hp\\anaconda3\\lib\\site-packages (from pandas-profiling) (1.5.2)\n",
      "Requirement already satisfied: markupsafe~=2.1.1 in c:\\users\\hp\\anaconda3\\lib\\site-packages (from pandas-profiling) (2.1.1)\n",
      "Requirement already satisfied: phik>=0.11.1 in c:\\users\\hp\\anaconda3\\lib\\site-packages (from pandas-profiling) (0.12.2)\n",
      "Requirement already satisfied: tangled-up-in-unicode==0.2.0 in c:\\users\\hp\\anaconda3\\lib\\site-packages (from pandas-profiling) (0.2.0)\n",
      "Requirement already satisfied: multimethod>=1.4 in c:\\users\\hp\\anaconda3\\lib\\site-packages (from pandas-profiling) (1.8)\n",
      "Requirement already satisfied: pandas!=1.0.0,!=1.0.1,!=1.0.2,!=1.1.0,>=0.25.3 in c:\\users\\hp\\anaconda3\\lib\\site-packages (from pandas-profiling) (1.1.3)\n",
      "Requirement already satisfied: htmlmin>=0.1.12 in c:\\users\\hp\\anaconda3\\lib\\site-packages (from pandas-profiling) (0.1.12)\n",
      "Requirement already satisfied: tqdm>=4.48.2 in c:\\users\\hp\\anaconda3\\lib\\site-packages (from pandas-profiling) (4.50.2)\n",
      "Requirement already satisfied: requests>=2.24.0 in c:\\users\\hp\\anaconda3\\lib\\site-packages (from pandas-profiling) (2.24.0)\n",
      "Requirement already satisfied: attrs>=19.3.0 in c:\\users\\hp\\anaconda3\\lib\\site-packages (from visions[type_image_path]==0.7.4->pandas-profiling) (20.3.0)\n",
      "Requirement already satisfied: networkx>=2.4 in c:\\users\\hp\\anaconda3\\lib\\site-packages (from visions[type_image_path]==0.7.4->pandas-profiling) (2.5)\n",
      "Requirement already satisfied: imagehash; extra == \"type_image_path\" in c:\\users\\hp\\anaconda3\\lib\\site-packages (from visions[type_image_path]==0.7.4->pandas-profiling) (4.2.1)\n",
      "Requirement already satisfied: Pillow; extra == \"type_image_path\" in c:\\users\\hp\\anaconda3\\lib\\site-packages (from visions[type_image_path]==0.7.4->pandas-profiling) (8.0.1)\n",
      "Requirement already satisfied: typing-extensions>=3.7.4.3 in c:\\users\\hp\\anaconda3\\lib\\site-packages (from pydantic>=1.8.1->pandas-profiling) (3.7.4.3)\n",
      "Requirement already satisfied: pyparsing!=2.0.4,!=2.1.2,!=2.1.6,>=2.0.3 in c:\\users\\hp\\anaconda3\\lib\\site-packages (from matplotlib>=3.2.0->pandas-profiling) (2.4.7)\n",
      "Requirement already satisfied: python-dateutil>=2.1 in c:\\users\\hp\\anaconda3\\lib\\site-packages (from matplotlib>=3.2.0->pandas-profiling) (2.8.1)\n",
      "Requirement already satisfied: cycler>=0.10 in c:\\users\\hp\\anaconda3\\lib\\site-packages (from matplotlib>=3.2.0->pandas-profiling) (0.10.0)\n",
      "Requirement already satisfied: kiwisolver>=1.0.1 in c:\\users\\hp\\anaconda3\\lib\\site-packages (from matplotlib>=3.2.0->pandas-profiling) (1.3.0)\n",
      "Requirement already satisfied: certifi>=2020.06.20 in c:\\users\\hp\\anaconda3\\lib\\site-packages (from matplotlib>=3.2.0->pandas-profiling) (2020.6.20)\n",
      "Requirement already satisfied: pytz>=2017.2 in c:\\users\\hp\\anaconda3\\lib\\site-packages (from pandas!=1.0.0,!=1.0.1,!=1.0.2,!=1.1.0,>=0.25.3->pandas-profiling) (2020.1)\n",
      "Requirement already satisfied: idna<3,>=2.5 in c:\\users\\hp\\anaconda3\\lib\\site-packages (from requests>=2.24.0->pandas-profiling) (2.10)\n",
      "Requirement already satisfied: urllib3!=1.25.0,!=1.25.1,<1.26,>=1.21.1 in c:\\users\\hp\\anaconda3\\lib\\site-packages (from requests>=2.24.0->pandas-profiling) (1.25.11)\n",
      "Requirement already satisfied: chardet<4,>=3.0.2 in c:\\users\\hp\\anaconda3\\lib\\site-packages (from requests>=2.24.0->pandas-profiling) (3.0.4)\n",
      "Requirement already satisfied: decorator>=4.3.0 in c:\\users\\hp\\anaconda3\\lib\\site-packages (from networkx>=2.4->visions[type_image_path]==0.7.4->pandas-profiling) (4.4.2)\n",
      "Requirement already satisfied: six in c:\\users\\hp\\anaconda3\\lib\\site-packages (from imagehash; extra == \"type_image_path\"->visions[type_image_path]==0.7.4->pandas-profiling) (1.15.0)\n",
      "Requirement already satisfied: PyWavelets in c:\\users\\hp\\anaconda3\\lib\\site-packages (from imagehash; extra == \"type_image_path\"->visions[type_image_path]==0.7.4->pandas-profiling) (1.1.1)\n"
     ]
    }
   ],
   "source": [
    "import sys\n",
    "!{sys.executable} -m pip install pandas-profiling"
   ]
  },
  {
   "cell_type": "code",
   "execution_count": 13,
   "metadata": {},
   "outputs": [],
   "source": [
    "import pandas as pd \n",
    "from pandas_profiling import ProfileReport\n"
   ]
  },
  {
   "cell_type": "code",
   "execution_count": 5,
   "metadata": {},
   "outputs": [],
   "source": [
    "df = pd.read_csv('data/final-ATP.csv')"
   ]
  },
  {
   "cell_type": "code",
   "execution_count": 7,
   "metadata": {},
   "outputs": [
    {
     "name": "stdout",
     "output_type": "stream",
     "text": [
      "<class 'pandas.core.frame.DataFrame'>\n",
      "RangeIndex: 998 entries, 0 to 997\n",
      "Data columns (total 70 columns):\n",
      " #   Column              Non-Null Count  Dtype  \n",
      "---  ------              --------------  -----  \n",
      " 0   Unnamed: 0          998 non-null    int64  \n",
      " 1   index               998 non-null    int64  \n",
      " 2   Unnamed: 0.1        998 non-null    float64\n",
      " 3   tourney_id          998 non-null    object \n",
      " 4   tourney_name        998 non-null    object \n",
      " 5   surface             998 non-null    object \n",
      " 6   draw_size           998 non-null    float64\n",
      " 7   tourney_level       998 non-null    object \n",
      " 8   tourney_date        998 non-null    float64\n",
      " 9   match_num           998 non-null    float64\n",
      " 10  winner_id           998 non-null    float64\n",
      " 11  winner_seed         682 non-null    object \n",
      " 12  winner_entry        101 non-null    object \n",
      " 13  winner_name         998 non-null    object \n",
      " 14  winner_hand         998 non-null    object \n",
      " 15  winner_ht           997 non-null    float64\n",
      " 16  winner_ioc          998 non-null    object \n",
      " 17  winner_age          998 non-null    float64\n",
      " 18  loser_id            998 non-null    float64\n",
      " 19  loser_seed          539 non-null    object \n",
      " 20  loser_entry         125 non-null    object \n",
      " 21  loser_name          998 non-null    object \n",
      " 22  loser_hand          998 non-null    object \n",
      " 23  loser_ht            992 non-null    float64\n",
      " 24  loser_ioc           998 non-null    object \n",
      " 25  loser_age           998 non-null    float64\n",
      " 26  score               998 non-null    object \n",
      " 27  best_of             998 non-null    float64\n",
      " 28  round               998 non-null    object \n",
      " 29  minutes             949 non-null    float64\n",
      " 30  w_ace_x             998 non-null    float64\n",
      " 31  w_df                998 non-null    float64\n",
      " 32  w_svpt              998 non-null    float64\n",
      " 33  w_1stIn_x           998 non-null    float64\n",
      " 34  w_1stWon_x          998 non-null    float64\n",
      " 35  w_2ndWon_x          998 non-null    float64\n",
      " 36  w_SvGms             998 non-null    float64\n",
      " 37  w_bpSaved           998 non-null    float64\n",
      " 38  w_bpFaced           998 non-null    float64\n",
      " 39  l_ace               998 non-null    float64\n",
      " 40  l_df                998 non-null    float64\n",
      " 41  l_svpt              998 non-null    float64\n",
      " 42  l_1stIn             998 non-null    float64\n",
      " 43  l_1stWon            998 non-null    float64\n",
      " 44  l_2ndWon            998 non-null    float64\n",
      " 45  l_SvGms             998 non-null    float64\n",
      " 46  l_bpSaved           998 non-null    float64\n",
      " 47  l_bpFaced           998 non-null    float64\n",
      " 48  winner_rank         998 non-null    float64\n",
      " 49  winner_rank_points  998 non-null    float64\n",
      " 50  loser_rank          997 non-null    float64\n",
      " 51  loser_rank_points   997 non-null    float64\n",
      " 52  match_id            998 non-null    object \n",
      " 53  l_winners_fh        998 non-null    int64  \n",
      " 54  l_winners_bh        998 non-null    int64  \n",
      " 55  l_unforced_fh       998 non-null    int64  \n",
      " 56  l_unforced_bh       998 non-null    int64  \n",
      " 57  l_return_pts_faced  998 non-null    int64  \n",
      " 58  l_return_pts_won    998 non-null    int64  \n",
      " 59  w_1stIn_y           998 non-null    int64  \n",
      " 60  w_1stWon_y          998 non-null    int64  \n",
      " 61  w_2ndWon_y          998 non-null    int64  \n",
      " 62  w_ace_y             998 non-null    int64  \n",
      " 63  w_winners_fh        998 non-null    int64  \n",
      " 64  w_winners_bh        998 non-null    int64  \n",
      " 65  w_unforced_fh       998 non-null    int64  \n",
      " 66  w_unforced_bh       998 non-null    int64  \n",
      " 67  w_return_pts_faced  998 non-null    int64  \n",
      " 68  w_return_pts_won    998 non-null    int64  \n",
      " 69  Unnamed: 0.1.1      512 non-null    float64\n",
      "dtypes: float64(35), int64(18), object(17)\n",
      "memory usage: 545.9+ KB\n"
     ]
    }
   ],
   "source": [
    "df.info()"
   ]
  },
  {
   "cell_type": "code",
   "execution_count": 8,
   "metadata": {},
   "outputs": [
    {
     "name": "stdout",
     "output_type": "stream",
     "text": [
      "<class 'pandas.core.frame.DataFrame'>\n",
      "RangeIndex: 998 entries, 0 to 997\n",
      "Data columns (total 62 columns):\n",
      " #   Column              Non-Null Count  Dtype  \n",
      "---  ------              --------------  -----  \n",
      " 0   tourney_id          998 non-null    object \n",
      " 1   tourney_name        998 non-null    object \n",
      " 2   surface             998 non-null    object \n",
      " 3   draw_size           998 non-null    float64\n",
      " 4   tourney_level       998 non-null    object \n",
      " 5   tourney_date        998 non-null    float64\n",
      " 6   match_num           998 non-null    float64\n",
      " 7   winner_id           998 non-null    float64\n",
      " 8   winner_seed         682 non-null    object \n",
      " 9   winner_entry        101 non-null    object \n",
      " 10  winner_name         998 non-null    object \n",
      " 11  winner_hand         998 non-null    object \n",
      " 12  winner_ht           997 non-null    float64\n",
      " 13  winner_ioc          998 non-null    object \n",
      " 14  winner_age          998 non-null    float64\n",
      " 15  loser_id            998 non-null    float64\n",
      " 16  loser_seed          539 non-null    object \n",
      " 17  loser_entry         125 non-null    object \n",
      " 18  loser_name          998 non-null    object \n",
      " 19  loser_hand          998 non-null    object \n",
      " 20  loser_ht            992 non-null    float64\n",
      " 21  loser_ioc           998 non-null    object \n",
      " 22  loser_age           998 non-null    float64\n",
      " 23  score               998 non-null    object \n",
      " 24  best_of             998 non-null    float64\n",
      " 25  round               998 non-null    object \n",
      " 26  minutes             949 non-null    float64\n",
      " 27  w_ace_x             998 non-null    float64\n",
      " 28  w_df                998 non-null    float64\n",
      " 29  w_svpt              998 non-null    float64\n",
      " 30  w_1stIn_x           998 non-null    float64\n",
      " 31  w_1stWon_x          998 non-null    float64\n",
      " 32  w_2ndWon_x          998 non-null    float64\n",
      " 33  w_SvGms             998 non-null    float64\n",
      " 34  w_bpSaved           998 non-null    float64\n",
      " 35  w_bpFaced           998 non-null    float64\n",
      " 36  l_ace               998 non-null    float64\n",
      " 37  l_df                998 non-null    float64\n",
      " 38  l_svpt              998 non-null    float64\n",
      " 39  l_1stIn             998 non-null    float64\n",
      " 40  l_1stWon            998 non-null    float64\n",
      " 41  l_2ndWon            998 non-null    float64\n",
      " 42  l_SvGms             998 non-null    float64\n",
      " 43  l_bpSaved           998 non-null    float64\n",
      " 44  l_bpFaced           998 non-null    float64\n",
      " 45  winner_rank         998 non-null    float64\n",
      " 46  winner_rank_points  998 non-null    float64\n",
      " 47  loser_rank          997 non-null    float64\n",
      " 48  loser_rank_points   997 non-null    float64\n",
      " 49  match_id            998 non-null    object \n",
      " 50  l_winners_fh        998 non-null    int64  \n",
      " 51  l_winners_bh        998 non-null    int64  \n",
      " 52  l_unforced_fh       998 non-null    int64  \n",
      " 53  l_unforced_bh       998 non-null    int64  \n",
      " 54  l_return_pts_faced  998 non-null    int64  \n",
      " 55  l_return_pts_won    998 non-null    int64  \n",
      " 56  w_winners_fh        998 non-null    int64  \n",
      " 57  w_winners_bh        998 non-null    int64  \n",
      " 58  w_unforced_fh       998 non-null    int64  \n",
      " 59  w_unforced_bh       998 non-null    int64  \n",
      " 60  w_return_pts_faced  998 non-null    int64  \n",
      " 61  w_return_pts_won    998 non-null    int64  \n",
      "dtypes: float64(33), int64(12), object(17)\n",
      "memory usage: 483.5+ KB\n"
     ]
    }
   ],
   "source": [
    "df.drop(['Unnamed: 0', 'index','Unnamed: 0.1','Unnamed: 0.1.1', 'w_1stIn_y','w_1stWon_y','w_2ndWon_y', \n",
    "   'w_ace_y'] , axis = 1 , inplace= True) \n",
    "df.info()"
   ]
  },
  {
   "cell_type": "code",
   "execution_count": 14,
   "metadata": {},
   "outputs": [],
   "source": [
    "profile = ProfileReport(df, title=\"Pandas Profiling Report\")\n"
   ]
  },
  {
   "cell_type": "code",
   "execution_count": null,
   "metadata": {},
   "outputs": [
    {
     "data": {
      "application/vnd.jupyter.widget-view+json": {
       "model_id": "704b30526e0f493ea403604606202cd0",
       "version_major": 2,
       "version_minor": 0
      },
      "text/plain": [
       "HBox(children=(HTML(value='Summarize dataset'), FloatProgress(value=0.0, max=5.0), HTML(value='')))"
      ]
     },
     "metadata": {},
     "output_type": "display_data"
    },
    {
     "name": "stdout",
     "output_type": "stream",
     "text": [
      "\n"
     ]
    },
    {
     "data": {
      "application/vnd.jupyter.widget-view+json": {
       "model_id": "373c484c80c24db38e7bdfa47f59030e",
       "version_major": 2,
       "version_minor": 0
      },
      "text/plain": [
       "HBox(children=(HTML(value='Generate report structure'), FloatProgress(value=0.0, max=1.0), HTML(value='')))"
      ]
     },
     "metadata": {},
     "output_type": "display_data"
    },
    {
     "name": "stdout",
     "output_type": "stream",
     "text": [
      "\n"
     ]
    },
    {
     "data": {
      "application/vnd.jupyter.widget-view+json": {
       "model_id": "3eaba2dccb6f4493a858b7c342054e0d",
       "version_major": 2,
       "version_minor": 0
      },
      "text/plain": [
       "HBox(children=(HTML(value='Render HTML'), FloatProgress(value=0.0, max=1.0), HTML(value='')))"
      ]
     },
     "metadata": {},
     "output_type": "display_data"
    }
   ],
   "source": [
    "profile"
   ]
  },
  {
   "cell_type": "code",
   "execution_count": 16,
   "metadata": {},
   "outputs": [
    {
     "data": {
      "application/vnd.jupyter.widget-view+json": {
       "model_id": "77f27265043a4908811f1ee5d0c556c2",
       "version_major": 2,
       "version_minor": 0
      },
      "text/plain": [
       "HBox(children=(HTML(value='Export report to file'), FloatProgress(value=0.0, max=1.0), HTML(value='')))"
      ]
     },
     "metadata": {},
     "output_type": "display_data"
    },
    {
     "name": "stdout",
     "output_type": "stream",
     "text": [
      "\n"
     ]
    }
   ],
   "source": [
    "profile.to_file(\"ATP_report.html\")"
   ]
  },
  {
   "cell_type": "code",
   "execution_count": null,
   "metadata": {},
   "outputs": [],
   "source": []
  }
 ],
 "metadata": {
  "kernelspec": {
   "display_name": "Python 3",
   "language": "python",
   "name": "python3"
  },
  "language_info": {
   "codemirror_mode": {
    "name": "ipython",
    "version": 3
   },
   "file_extension": ".py",
   "mimetype": "text/x-python",
   "name": "python",
   "nbconvert_exporter": "python",
   "pygments_lexer": "ipython3",
   "version": "3.8.5"
  },
  "toc": {
   "base_numbering": 1,
   "nav_menu": {},
   "number_sections": true,
   "sideBar": true,
   "skip_h1_title": false,
   "title_cell": "Table of Contents",
   "title_sidebar": "Contents",
   "toc_cell": false,
   "toc_position": {},
   "toc_section_display": true,
   "toc_window_display": false
  }
 },
 "nbformat": 4,
 "nbformat_minor": 4
}
